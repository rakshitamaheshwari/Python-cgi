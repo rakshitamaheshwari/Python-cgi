{
 "cells": [
  {
   "cell_type": "code",
   "execution_count": null,
   "metadata": {},
   "outputs": [],
   "source": [
    "import requests\n",
    "import numpy\n",
    "import cv2\n",
    "\n",
    "while True:\n",
    "    url=\"http://25.110.108.26:8080/shot.jpg\"\n",
    "    data=requests.get(url)\n",
    "    photo=data.content\n",
    "    myphoto=bytearray(photo)\n",
    "    my=numpy.array(myphoto)\n",
    "    pic=cv2.imdecode(my,-1)\n",
    "    cv2.imshow(\"hi\",pic)\n",
    "    if cv2.waitKey(1)==13:\n",
    "        break\n",
    "cv2.destroyAllWindows()\n"
   ]
  },
  {
   "cell_type": "markdown",
   "metadata": {},
   "source": []
  }
 ],
 "metadata": {
  "kernelspec": {
   "display_name": "Python 3",
   "language": "python",
   "name": "python3"
  },
  "language_info": {
   "codemirror_mode": {
    "name": "ipython",
    "version": 3
   },
   "file_extension": ".py",
   "mimetype": "text/x-python",
   "name": "python",
   "nbconvert_exporter": "python",
   "pygments_lexer": "ipython3",
   "version": "3.6.6"
  }
 },
 "nbformat": 4,
 "nbformat_minor": 2
}
